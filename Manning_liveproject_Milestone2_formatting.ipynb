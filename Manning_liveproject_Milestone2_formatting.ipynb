{
 "cells": [
  {
   "cell_type": "code",
   "execution_count": 4,
   "id": "regulated-present",
   "metadata": {
    "ExecuteTime": {
     "end_time": "2021-03-15T16:56:47.012463Z",
     "start_time": "2021-03-15T16:56:46.999419Z"
    }
   },
   "outputs": [
    {
     "data": {
      "text/plain": [
       "'import sys\\n!{sys.executable} -m pip install nltk'"
      ]
     },
     "execution_count": 4,
     "metadata": {},
     "output_type": "execute_result"
    }
   ],
   "source": [
    "\"\"\"import sys\n",
    "!{sys.executable} -m pip install nltk\"\"\""
   ]
  },
  {
   "cell_type": "code",
   "execution_count": 3,
   "id": "different-collective",
   "metadata": {
    "ExecuteTime": {
     "end_time": "2021-03-15T16:56:27.496409Z",
     "start_time": "2021-03-15T16:56:23.563495Z"
    }
   },
   "outputs": [],
   "source": [
    "import nltk"
   ]
  },
  {
   "cell_type": "code",
   "execution_count": 6,
   "id": "median-sessions",
   "metadata": {
    "ExecuteTime": {
     "end_time": "2021-03-15T16:57:33.095553Z",
     "start_time": "2021-03-15T16:57:33.076515Z"
    }
   },
   "outputs": [
    {
     "data": {
      "text/plain": [
       "'import sys\\n!{sys.executable} -m pip install nltk'"
      ]
     },
     "execution_count": 6,
     "metadata": {},
     "output_type": "execute_result"
    }
   ],
   "source": [
    "\"\"\"import sys\n",
    "!{sys.executable} -m pip install nltk\"\"\""
   ]
  },
  {
   "cell_type": "markdown",
   "id": "animal-lawrence",
   "metadata": {
    "ExecuteTime": {
     "end_time": "2021-03-15T17:00:44.972461Z",
     "start_time": "2021-03-15T17:00:44.961467Z"
    }
   },
   "source": [
    "### Pythagorean Formula"
   ]
  },
  {
   "cell_type": "markdown",
   "id": "dress-judge",
   "metadata": {},
   "source": [
    "$$ x^2 + y^2 = z^2 $$"
   ]
  },
  {
   "cell_type": "markdown",
   "id": "economic-elimination",
   "metadata": {},
   "source": [
    "### Three Factorial Variants "
   ]
  },
  {
   "cell_type": "code",
   "execution_count": 16,
   "id": "changing-instrument",
   "metadata": {
    "ExecuteTime": {
     "end_time": "2021-03-15T17:25:58.104404Z",
     "start_time": "2021-03-15T17:25:58.091443Z"
    },
    "code_folding": []
   },
   "outputs": [],
   "source": [
    "def factorialA(x: int) -> int:\n",
    "    \"\"\"classic factorial computing using a loop\"\"\"\n",
    "    factorial = 1\n",
    "    if x < 0:\n",
    "        return \"Sorry, no factorial for you, negative numbers!\"\n",
    "    elif x == 0:\n",
    "        return \"Crystal ball says the factorial of 0 is 1\"\n",
    "    else:\n",
    "        for i in range(1, x + 1):\n",
    "            factorial = factorial * i\n",
    "    return f\"The factorial of {x} is {factorial}\""
   ]
  },
  {
   "cell_type": "code",
   "execution_count": 20,
   "id": "boring-month",
   "metadata": {
    "ExecuteTime": {
     "end_time": "2021-03-15T17:27:06.148344Z",
     "start_time": "2021-03-15T17:26:57.715297Z"
    }
   },
   "outputs": [
    {
     "name": "stdout",
     "output_type": "stream",
     "text": [
      "10.3 µs ± 444 ns per loop (mean ± std. dev. of 7 runs, 100000 loops each)\n"
     ]
    }
   ],
   "source": [
    "%%timeit\n",
    "factorialA(100)"
   ]
  },
  {
   "cell_type": "code",
   "execution_count": 26,
   "id": "sitting-brisbane",
   "metadata": {
    "ExecuteTime": {
     "end_time": "2021-03-15T17:37:32.430133Z",
     "start_time": "2021-03-15T17:37:32.426175Z"
    },
    "code_folding": []
   },
   "outputs": [],
   "source": [
    "def factorialB(x: int) -> int:\n",
    "    \"\"\"factorial computing using recursion(recursion)\"\"\"\n",
    "    if x == 1:\n",
    "        return x\n",
    "    else:\n",
    "        return x * factorialB(x - 1)"
   ]
  },
  {
   "cell_type": "code",
   "execution_count": 27,
   "id": "hourly-korean",
   "metadata": {
    "ExecuteTime": {
     "end_time": "2021-03-15T17:37:37.043038Z",
     "start_time": "2021-03-15T17:37:35.363829Z"
    }
   },
   "outputs": [
    {
     "name": "stdout",
     "output_type": "stream",
     "text": [
      "20.7 µs ± 4.32 µs per loop (mean ± std. dev. of 7 runs, 10000 loops each)\n"
     ]
    }
   ],
   "source": [
    "%%timeit\n",
    "factorialB(100)"
   ]
  },
  {
   "cell_type": "code",
   "execution_count": 29,
   "id": "accessible-netherlands",
   "metadata": {
    "ExecuteTime": {
     "end_time": "2021-03-15T17:38:01.555326Z",
     "start_time": "2021-03-15T17:38:01.541324Z"
    },
    "code_folding": []
   },
   "outputs": [],
   "source": [
    "import math\n",
    "\n",
    "\n",
    "def factorialC(x: int) -> int:\n",
    "    return math.factorial(x)"
   ]
  },
  {
   "cell_type": "code",
   "execution_count": 30,
   "id": "usual-weekly",
   "metadata": {
    "ExecuteTime": {
     "end_time": "2021-03-15T17:38:28.703062Z",
     "start_time": "2021-03-15T17:38:14.438706Z"
    }
   },
   "outputs": [
    {
     "name": "stdout",
     "output_type": "stream",
     "text": [
      "1.76 µs ± 96.4 ns per loop (mean ± std. dev. of 7 runs, 1000000 loops each)\n"
     ]
    }
   ],
   "source": [
    "%%timeit\n",
    "factorialC(100)"
   ]
  },
  {
   "cell_type": "code",
   "execution_count": null,
   "id": "nominated-plaintiff",
   "metadata": {},
   "outputs": [],
   "source": []
  }
 ],
 "metadata": {
  "kernelspec": {
   "display_name": "Python (myenv)",
   "language": "python",
   "name": "myenv"
  },
  "language_info": {
   "codemirror_mode": {
    "name": "ipython",
    "version": 3
   },
   "file_extension": ".py",
   "mimetype": "text/x-python",
   "name": "python",
   "nbconvert_exporter": "python",
   "pygments_lexer": "ipython3",
   "version": "3.8.8"
  }
 },
 "nbformat": 4,
 "nbformat_minor": 5
}
