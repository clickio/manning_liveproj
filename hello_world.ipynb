{
 "cells": [
  {
   "cell_type": "markdown",
   "id": "reliable-restriction",
   "metadata": {},
   "source": [
    "### Behold, the (in)famous Hello World function"
   ]
  },
  {
   "cell_type": "code",
   "execution_count": 1,
   "id": "endless-preparation",
   "metadata": {},
   "outputs": [
    {
     "name": "stdout",
     "output_type": "stream",
     "text": [
      "hello world\n"
     ]
    }
   ],
   "source": [
    "def hello_world_func():\n",
    "    print('hello world')\n",
    "hello_world_func()"
   ]
  },
  {
   "cell_type": "code",
   "execution_count": null,
   "id": "initial-virtue",
   "metadata": {},
   "outputs": [],
   "source": []
  }
 ],
 "metadata": {
  "kernelspec": {
   "display_name": "gputest",
   "language": "python",
   "name": "gputest"
  },
  "language_info": {
   "codemirror_mode": {
    "name": "ipython",
    "version": 3
   },
   "file_extension": ".py",
   "mimetype": "text/x-python",
   "name": "python",
   "nbconvert_exporter": "python",
   "pygments_lexer": "ipython3",
   "version": "3.8.8"
  }
 },
 "nbformat": 4,
 "nbformat_minor": 5
}
