{
 "cells": [
  {
   "cell_type": "markdown",
   "id": "satisfactory-addition",
   "metadata": {},
   "source": [
    "#### This notebook was created for the 3rd step in the [Manning LiveProject Getting started with Jupyter Notebooks](https://liveproject.manning.com/module/280_4_1/getting-started-with-jupyter-notebook/)"
   ]
  },
  {
   "cell_type": "code",
   "execution_count": 1,
   "id": "musical-regard",
   "metadata": {
    "ExecuteTime": {
     "end_time": "2021-03-20T16:01:41.094923Z",
     "start_time": "2021-03-20T16:01:40.842032Z"
    }
   },
   "outputs": [],
   "source": [
    "import numpy as np"
   ]
  },
  {
   "cell_type": "code",
   "execution_count": 2,
   "id": "weighted-level",
   "metadata": {
    "ExecuteTime": {
     "end_time": "2021-03-20T16:01:41.120777Z",
     "start_time": "2021-03-20T16:01:41.100810Z"
    }
   },
   "outputs": [],
   "source": [
    "def createDataSet():\n",
    "    \"\"\"A simple function that creates the initial dataset\"\"\"\n",
    "    dataset = np.array([[1.0, 1.1], [1.0, 1.0], [0, 0], [0, 0.1]])\n",
    "    labels = [\"A\", \"A\", \"B\", \"B\"]\n",
    "    return dataset, labels"
   ]
  },
  {
   "cell_type": "code",
   "execution_count": 3,
   "id": "compact-attendance",
   "metadata": {
    "ExecuteTime": {
     "end_time": "2021-03-20T16:01:41.273166Z",
     "start_time": "2021-03-20T16:01:41.125098Z"
    }
   },
   "outputs": [],
   "source": [
    "dataset, labels = createDataSet()"
   ]
  },
  {
   "cell_type": "code",
   "execution_count": 4,
   "id": "postal-chick",
   "metadata": {
    "ExecuteTime": {
     "end_time": "2021-03-20T16:01:41.297060Z",
     "start_time": "2021-03-20T16:01:41.277412Z"
    }
   },
   "outputs": [],
   "source": [
    "def KNN_classifier(inputsequence, dataset, labels, k_neighbors):\n",
    "    \"\"\"The classifier using the euclidean distance - sqr root of the squared sum of coordinate differences,\n",
    "    that is, sqr root of the sum of the squared coordinate differences\"\"\"\n",
    "    dset_size = dataset.shape[0]\n",
    "    # First we create a tiled matrix from the inputsequence and we compute the difference matrix\n",
    "    diff_matrix = np.tile(inputsequence, [dset_size, 1]) - dataset\n",
    "    # We square the difference matrices so that the values dont cancel eachother when summed\n",
    "    squared_diff_matrix = diff_matrix ** 2\n",
    "    # We calculate the squared distances by summing the squared differences\n",
    "    squared_distances = squared_diff_matrix.sum(axis=1)\n",
    "    # We take the sqrt of squared distances to figure the actual distances\n",
    "    distances = squared_distances ** 0.5\n",
    "    # We sort the distance and return the shortest one\n",
    "    sorted_distances_indexes = distances.argsort()\n",
    "    class_count = {}\n",
    "    for i in range(k_neighbors):\n",
    "        current_vote_label = labels[sorted_distances_indexes[i]]\n",
    "        class_count[current_vote_label] = class_count.get(current_vote_label, 0) + 1\n",
    "    sorted_class_count = sorted(\n",
    "        class_count.items(), key=(lambda item: item[1]), reverse=True\n",
    "    )\n",
    "    return sorted_class_count[0][0]"
   ]
  },
  {
   "cell_type": "code",
   "execution_count": 5,
   "id": "ideal-teens",
   "metadata": {
    "ExecuteTime": {
     "end_time": "2021-03-20T16:01:41.386356Z",
     "start_time": "2021-03-20T16:01:41.300119Z"
    }
   },
   "outputs": [
    {
     "data": {
      "text/plain": [
       "'B'"
      ]
     },
     "execution_count": 5,
     "metadata": {},
     "output_type": "execute_result"
    }
   ],
   "source": [
    "KNN_classifier([0, 0], dataset, labels, 3)"
   ]
  },
  {
   "cell_type": "code",
   "execution_count": 8,
   "id": "painted-nigeria",
   "metadata": {
    "ExecuteTime": {
     "end_time": "2021-03-20T16:01:54.566738Z",
     "start_time": "2021-03-20T16:01:54.555308Z"
    }
   },
   "outputs": [
    {
     "data": {
      "text/plain": [
       "'A'"
      ]
     },
     "execution_count": 8,
     "metadata": {},
     "output_type": "execute_result"
    }
   ],
   "source": [
    "KNN_classifier([1, 1], dataset, labels, 3)"
   ]
  },
  {
   "cell_type": "markdown",
   "id": "adult-parallel",
   "metadata": {
    "ExecuteTime": {
     "end_time": "2021-03-20T15:51:56.252486Z",
     "start_time": "2021-03-20T15:51:56.238728Z"
    }
   },
   "source": [
    "#### Euclidean distance formula"
   ]
  },
  {
   "cell_type": "markdown",
   "id": "disabled-bahrain",
   "metadata": {},
   "source": [
    "$$ d\\left( p,q\\right)   = \\sqrt {\\sum _{i=1}^{n}  \\left( q_{i}-p_{i}\\right)^2 } $$"
   ]
  },
  {
   "cell_type": "code",
   "execution_count": 25,
   "id": "printable-protection",
   "metadata": {
    "ExecuteTime": {
     "end_time": "2021-03-20T16:17:02.924379Z",
     "start_time": "2021-03-20T16:17:02.907191Z"
    }
   },
   "outputs": [],
   "source": [
    "def createDataSetforplotting():\n",
    "    \"\"\"A simple function that creates the initial dataset\"\"\"\n",
    "    dataset = np.array([[1.0, 1.1], [1.0, 1.0], [0, 0], [0, 0.1]])\n",
    "    labels = [\"A1\", \"A2\", \"B1\", \"B2\"]\n",
    "    return dataset, labels"
   ]
  },
  {
   "cell_type": "code",
   "execution_count": 26,
   "id": "athletic-vault",
   "metadata": {
    "ExecuteTime": {
     "end_time": "2021-03-20T16:17:14.576798Z",
     "start_time": "2021-03-20T16:17:14.572004Z"
    }
   },
   "outputs": [],
   "source": [
    "dataset, labels = createDataSetforplotting()"
   ]
  },
  {
   "cell_type": "code",
   "execution_count": 27,
   "id": "formal-sweet",
   "metadata": {
    "ExecuteTime": {
     "end_time": "2021-03-20T16:17:32.951123Z",
     "start_time": "2021-03-20T16:17:32.928796Z"
    }
   },
   "outputs": [],
   "source": [
    "labeled_data = dict(zip(labels, dataset))"
   ]
  },
  {
   "cell_type": "code",
   "execution_count": 30,
   "id": "conservative-canadian",
   "metadata": {
    "ExecuteTime": {
     "end_time": "2021-03-20T16:19:12.182088Z",
     "start_time": "2021-03-20T16:19:11.866666Z"
    }
   },
   "outputs": [
    {
     "data": {
      "image/png": "[encoded data removed]",
      "text/plain": [
       "<Figure size 432x288 with 1 Axes>"
      ]
     },
     "metadata": {
      "needs_background": "light"
     },
     "output_type": "display_data"
    }
   ],
   "source": [
    "import numpy as np\n",
    "import matplotlib.pyplot as plt\n",
    "\n",
    "x = [labeled_data[\"A1\"], labeled_data[\"A2\"]]\n",
    "y = [labeled_data[\"B1\"], labeled_data[\"B2\"]]\n",
    "plt.scatter(x, y, alpha=0.5)\n",
    "plt.show()"
   ]
  },
  {
   "cell_type": "code",
   "execution_count": 31,
   "id": "finnish-programmer",
   "metadata": {
    "ExecuteTime": {
     "end_time": "2021-03-20T16:19:50.221125Z",
     "start_time": "2021-03-20T16:19:50.196231Z"
    }
   },
   "outputs": [
    {
     "data": {
      "text/plain": [
       "{'A1': array([1. , 1.1]),\n",
       " 'A2': array([1., 1.]),\n",
       " 'B1': array([0., 0.]),\n",
       " 'B2': array([0. , 0.1])}"
      ]
     },
     "execution_count": 31,
     "metadata": {},
     "output_type": "execute_result"
    }
   ],
   "source": [
    "labeled_data"
   ]
  }
 ],
 "metadata": {
  "kernelspec": {
   "display_name": "Python (myenv)",
   "language": "python",
   "name": "myenv"
  },
  "language_info": {
   "codemirror_mode": {
    "name": "ipython",
    "version": 3
   },
   "file_extension": ".py",
   "mimetype": "text/x-python",
   "name": "python",
   "nbconvert_exporter": "python",
   "pygments_lexer": "ipython3",
   "version": "3.8.8"
  }
 },
 "nbformat": 4,
 "nbformat_minor": 5
}
